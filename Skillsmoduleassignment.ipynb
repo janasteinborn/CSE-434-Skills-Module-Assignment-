{
  "nbformat": 4,
  "nbformat_minor": 0,
  "metadata": {
    "colab": {
      "provenance": [],
      "authorship_tag": "ABX9TyNDP15uaznnb9BcwBo74b50",
      "include_colab_link": true
    },
    "kernelspec": {
      "name": "python3",
      "display_name": "Python 3"
    },
    "language_info": {
      "name": "python"
    }
  },
  "cells": [
    {
      "cell_type": "markdown",
      "metadata": {
        "id": "view-in-github",
        "colab_type": "text"
      },
      "source": [
        "<a href=\"https://colab.research.google.com/github/janasteinborn/CSE-434-Skills-Module-Assignment-/blob/main/Skillsmoduleassignment.ipynb\" target=\"_parent\"><img src=\"https://colab.research.google.com/assets/colab-badge.svg\" alt=\"Open In Colab\"/></a>"
      ]
    },
    {
      "cell_type": "markdown",
      "source": [
        "# 3D Modeling with Autodesk Inventor\n",
        "This notebook documents my learning journey as I developed skills in 3D modeling and 3D printing using Autodesk Inventor. The process included understanding fundamental CAD principles, mastering parametric design, and exporting models for 3D printing. Each step in this notebook corresponds with design decisions, modeling features, and lessons learned through the tutorial and hands-on practice."
      ],
      "metadata": {
        "id": "ZxzvPnGgrRb5"
      }
    },
    {
      "cell_type": "markdown",
      "source": [
        "## Step-by-Step Design Process\n",
        "### 1. Initial Sketch\n",
        "- Created a 2D rectangle on the XY plane.\n",
        "- Set dimensions: **Width = 60 mm**, **Height = 30 mm**.\n",
        "- Applied constraints to fix the origin and ensure symmetry.\n",
        "\n",
        "### 2. Extrusion\n",
        "- Extruded the sketch to a depth of **10 mm** to create the base body.\n",
        "\n",
        "### 3. Circular Cutouts\n",
        "- Added two circles (diameter = 8 mm) near the left and right edges.\n",
        "- Used dimensioning to place them symmetrically along the midline.\n",
        "- Extruded cuts through the body to form holes.\n",
        "\n",
        "### 4. Fillets\n",
        "- Applied **5 mm fillets** to the top-left and bottom-right corners.\n",
        "- This helped improve the aesthetic and physical safety of the part.\n",
        "\n",
        "### 5. Symmetric Pockets\n",
        "- Sketched a central pocket and used the **mirror** tool to duplicate it.\n",
        "- Used the **rectangular pattern** tool for internal features.\n",
        "\n",
        "### 6. Parametric Adjustments\n",
        "- Defined user parameters for `width`, `height`, `hole_radius`, etc.\n",
        "- Used these parameters in dimensions, enabling scalable design.\n",
        "\n",
        "### 7. STL Export\n",
        "- Final model was exported as `custom_part.stl`.\n",
        "- File was ready for slicing and 3D printing."
      ],
      "metadata": {
        "id": "DVKDm1PCrU_P"
      }
    },
    {
      "cell_type": "code",
      "source": [
        "# Parametric Design Snippet (Symbolic Logic)\n",
        "# This represents the structure of the model using pseudo-code logic\n",
        "width = 60\n",
        "height = 30\n",
        "depth = 10\n",
        "hole_radius = 4\n",
        "\n",
        "center_x = width / 2\n",
        "hole_offset = 10\n",
        "\n",
        "# Simulated modeling steps\n",
        "print('BaseRectangle:', width, 'x', height)\n",
        "print('Extrude depth:', depth)\n",
        "print('Add holes at:', center_x - hole_offset, 'and', center_x + hole_offset)\n",
        "print('Apply fillets at corners with radius 5mm')\n",
        "print('Exported model as custom_part.stl')"
      ],
      "metadata": {
        "colab": {
          "base_uri": "https://localhost:8080/"
        },
        "id": "Zp9AMefVrZgO",
        "outputId": "3729b3ef-148c-4e42-f3d9-c2a3056be947"
      },
      "execution_count": 1,
      "outputs": [
        {
          "output_type": "stream",
          "name": "stdout",
          "text": [
            "BaseRectangle: 60 x 30\n",
            "Extrude depth: 10\n",
            "Add holes at: 20.0 and 40.0\n",
            "Apply fillets at corners with radius 5mm\n",
            "Exported model as custom_part.stl\n"
          ]
        }
      ]
    }
  ]
}